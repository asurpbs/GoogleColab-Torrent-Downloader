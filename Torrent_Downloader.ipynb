{
  "nbformat": 4,
  "nbformat_minor": 0,
  "metadata": {
    "colab": {
      "provenance": []
    },
    "kernelspec": {
      "name": "python3",
      "display_name": "Python 3"
    },
    "language_info": {
      "name": "python"
    }
  },
  "cells": [
    {
      "cell_type": "code",
      "source": [
        "#@title <b>Time Out Preventer (Advanced) </b></strong>\n",
        "%%capture\n",
        "AUTO_RECONNECT = True #@param {type:\"boolean\"}\n",
        "#@markdown **Run this code to prevent Google Colab from Timeout**\n",
        "from os import makedirs\n",
        "makedirs(\"/root/.config/rclone\", exist_ok = True)\n",
        "if AUTO_RECONNECT:\n",
        "  import IPython\n",
        "  from google.colab import output\n",
        "\n",
        "  display(IPython.display.Javascript('''\n",
        "  function ClickConnect(){\n",
        "    btn = document.querySelector(\"colab-connect-button\")\n",
        "    if (btn != null){\n",
        "      console.log(\"Click colab-connect-button\"); \n",
        "      btn.click() \n",
        "      }\n",
        "    \n",
        "    btn = document.getElementById('ok')\n",
        "    if (btn != null){\n",
        "      console.log(\"Click reconnect\"); \n",
        "      btn.click() \n",
        "      }\n",
        "    }\n",
        "    \n",
        "  setInterval(ClickConnect,60000)\n",
        "  '''))"
      ],
      "metadata": {
        "cellView": "form",
        "id": "ZfxwplLcEvhZ"
      },
      "execution_count": null,
      "outputs": []
    },
    {
      "cell_type": "markdown",
      "source": [
        "# **Torrent Downloader**"
      ],
      "metadata": {
        "id": "JRHc41A5bT0P"
      }
    },
    {
      "cell_type": "code",
      "execution_count": null,
      "metadata": {
        "id": "TY2iE6RyAR9p",
        "cellView": "form"
      },
      "outputs": [],
      "source": [
        "#@title <b> Input & Program </b></strong>\n",
        "magnet_link = \"magnet:?xt=urn:btih:D207C29B45806CFAB861AAD264C65F4633797423&dn=1915%3A+Legend+of+the+Gurkhas+%282022%29+%5B720p%5D+%5BYTS.MX%5D&tr=udp%3A%2F%2Ftracker.opentrackr.org%3A1337%2Fannounce&tr=udp%3A%2F%2Fopen.tracker.cl%3A1337%2Fannounce&tr=udp%3A%2F%2F9.rarbg.me%3A2970%2Fannounce&tr=udp%3A%2F%2Fp4p.arenabg.com%3A1337%2Fannounce&tr=udp%3A%2F%2Ftracker.torrent.eu.org%3A451%2Fannounce&tr=udp%3A%2F%2Ftracker.dler.org%3A6969%2Fannounce&tr=udp%3A%2F%2Fopen.stealth.si%3A80%2Fannounce&tr=udp%3A%2F%2Fipv4.tracker.harry.lu%3A80%2Fannounce&tr=https%3A%2F%2Fopentracker.i2p.rocks%3A443%2Fannounce\" #@param {type:\"string\"}\n",
        "from IPython.display import clear_output \n",
        "print(f'\\033[92mInstalling Requirments\\033[0m\\n')\n",
        "!pip install torrentp\n",
        "import os\n",
        "from google.colab import drive\n",
        "drive.mount('/gdrive')\n",
        "from torrentp import TorrentDownloader\n",
        "clear_output()\n",
        "print(f'\\033[92mDownloading Torrent\\033[0m\\n')\n",
        "storage == \"Gdrive\":\n",
        "file_path = \"/gdrive/MyDrive/Torrent\"\n",
        "torrent_file = TorrentDownloader(magnet_link,file_path)\n",
        "torrent_file.start_download()\n",
        "print('\\n\\033[93mNOTICE:\\033[0m \\033[1mPlease change downloaded torrent file locations to prevent from errors in the future runs.\\033[0m')"
      ]
    },
    {
      "cell_type": "code",
      "source": [
        "#@title <b> Option </b></strong>\n",
        "Kill_The_Machine = True #@param {type:\"boolean\"}\n",
        "if Kill_The_Machine == True:\n",
        "  from google.colab import runtime\n",
        "  runtime.unassign()\n",
        "  print('The machine is killed.Bye!')\n",
        "else:\n",
        "  print('Have a nice day.Bye!')\n"
      ],
      "metadata": {
        "cellView": "form",
        "id": "jsjFEoXmQc_l"
      },
      "execution_count": null,
      "outputs": []
    }
  ]
}